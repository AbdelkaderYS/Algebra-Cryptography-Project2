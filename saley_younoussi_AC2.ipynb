{
 "cells": [
  {
   "cell_type": "markdown",
   "metadata": {},
   "source": [
    "# $$\\text{African Institute for Mathematical Sciences}$$ \n",
    "## $$Kigali , Rwanda$$  \n",
    "---\n",
    "## $$\\text{Abdelkader YOUNOUSSI SALEY}$$ \n",
    "## $$\\text{Algebra and Cryptography}$$ \n",
    "## $$\\text{Assigment 2}$$ \n",
    "$$\\text{Mars 8, 2025}$$\n",
    "---"
   ]
  },
  {
   "cell_type": "markdown",
   "metadata": {},
   "source": [
    "## $\\textbf{Exercise 1.4: Sieve of Eratosthene Algorithm}$"
   ]
  },
  {
   "cell_type": "code",
   "execution_count": 1,
   "metadata": {},
   "outputs": [],
   "source": [
    "import math\n",
    "\n",
    "def sieve_of_eratosthenes(limit):\n",
    "    \"\"\"\n",
    "    Implements the Sieve of Eratosthenes to generate all prime numbers up to a given limit.\n",
    "\n",
    "    :param limit: The upper bound (inclusive) up to which primes should be found.\n",
    "    :return: A list of all prime numbers up to the given limit.\n",
    "    \"\"\"\n",
    "\n",
    "    is_prime = [True] * (limit + 1)\n",
    "\n",
    "    # 0 and 1 are not prime numbers, so mark them as False\n",
    "    is_prime[0] = is_prime[1] = False\n",
    "\n",
    "    #Iterate from 2 to the square root of the limit\n",
    "    for i in range(2, int(limit**0.5) + 1):\n",
    "        if is_prime[i]:  # If the number is still marked as prime\n",
    "            # Step 4: Mark all multiples of i (starting from i^2) as non-prime\n",
    "            for j in range(i * i, limit + 1, i):\n",
    "                is_prime[j] = False\n",
    "\n",
    "    primes = [x for x in range(limit + 1) if is_prime[x]]\n",
    "\n",
    "    return primes"
   ]
  },
  {
   "cell_type": "code",
   "execution_count": 2,
   "metadata": {},
   "outputs": [
    {
     "name": "stdout",
     "output_type": "stream",
     "text": [
      "The 13181999-th prime number is 240392543\n"
     ]
    }
   ],
   "source": [
    "# Task1: Find the 13181999-th Prime Number\n",
    "\n",
    "# Parameters\n",
    "n = 8181999\n",
    "tg_idx = 5000000 + n\n",
    "\n",
    "# Estimate upper bound for sieve\n",
    "upper_bound = int(tg_idx * math.log(tg_idx) * 1.2)\n",
    "\n",
    "# Generate primes and find the target prime\n",
    "primes = sieve_of_eratosthenes(upper_bound)\n",
    "tg_prime = primes[tg_idx - 1]  # -1 because indices are zero-based\n",
    "\n",
    "print(f\"The {tg_idx}-th prime number is {tg_prime}\")"
   ]
  },
  {
   "cell_type": "code",
   "execution_count": 3,
   "metadata": {},
   "outputs": [
    {
     "name": "stdout",
     "output_type": "stream",
     "text": [
      "The number of primes between 33554432 and 67108864 is 1894120\n"
     ]
    }
   ],
   "source": [
    "# Task2: Count the Number of Prime Numbers Between 225 and 226.\n",
    "\n",
    "def count_primes_in_range(lower, upper):\n",
    "    # Generate primes up to `upper` using Sieve of Eratosthenes\n",
    "    primes = sieve_of_eratosthenes(upper)\n",
    "    # Count primes within the range [lower, upper]\n",
    "    count = sum(1 for p in primes if lower <= p <= upper)\n",
    "    return count\n",
    "\n",
    "# Bounds\n",
    "lower_bound = 2**25\n",
    "upper_bound = 2**26\n",
    "\n",
    "# Count primes in range\n",
    "prime_count = count_primes_in_range(lower_bound, upper_bound)\n",
    "\n",
    "print(f\"The number of primes between {lower_bound} and {upper_bound} is {prime_count}\")\n"
   ]
  },
  {
   "cell_type": "markdown",
   "metadata": {},
   "source": []
  },
  {
   "cell_type": "markdown",
   "metadata": {},
   "source": [
    "## $\\textbf{Exercise 2: ElGamal cryptosystem}$"
   ]
  },
  {
   "cell_type": "markdown",
   "metadata": {},
   "source": [
    "## **Task Description**:\n",
    "\n",
    "Bob intercepts from Alice the following encrypted message, where the parameters are defined as follows:\n",
    "\n",
    "### **Group**:\n",
    "$G$ is a finite cyclic group defined over $ \\mathbb{F}_p $ where:\n",
    "- $ p = 123456789987654353003 $\n",
    "- The generator is $ g = 123456789 $.\n",
    "\n",
    "### **Public Keys**:\n",
    "- Alice's public key is $ g_A = 52808579942366933355 $.\n",
    "- Bob's public key is $ g_B = 39318628345168608817 $.\n",
    "\n",
    "Alice and Bob agree on the following encoding scheme for the characters in the message:\n",
    "- $ A = 11 $, $ B = 12 $, ..., $ Z = 36 $, space = 41, $ ' = 42 $, $. = 43 $, $ , = 44 $, $ ? = 45 $.\n",
    "\n",
    "### **Ciphertext**:\n",
    "The ciphertext consists of pairs $ (y, A) $, where $ y $ is the encrypted message and $ A $ is the public session key.\n",
    "\n",
    "\n",
    "## **Goal**:\n",
    "Bob needs to decrypt the message using the ElGamal decryption scheme. The task involves:\n",
    "1. Computing the secret key $ b $,\n",
    "2. Recovering the session key $ k $,\n",
    "3. Mapping the decrypted numbers back to their corresponding characters using the provided encoding scheme.\n"
   ]
  },
  {
   "cell_type": "code",
   "execution_count": 4,
   "metadata": {},
   "outputs": [],
   "source": [
    "# Problem parameters\n",
    "p = 123456789987654353003  # Large prime number\n",
    "g = 123456789  # Generator of the group\n",
    "gB = 39318628345168608817  # Bob’s public key\n",
    "\n",
    "# Ciphertext is a list of (y, A) pairs\n",
    "ciphertext = [\n",
    "    (83025882561049910713, 66740266984208729661),\n",
    "    (117087132399404660932, 44242256035307267278),\n",
    "    (67508282043396028407, 77559274822593376192),\n",
    "    (60938739831689454113, 14528504156719159785),\n",
    "    (5059840044561914427, 59498668430421643612),\n",
    "    (92232942954165956522, 105988641027327945219),\n",
    "    (97102226574752360229, 46166643538418294423)]"
   ]
  },
  {
   "cell_type": "code",
   "execution_count": 5,
   "metadata": {},
   "outputs": [],
   "source": [
    "def extended_gcd(a, b):\n",
    "    \"\"\"\n",
    "    Compute the greatest common divisor (GCD) of a and b using the extended Euclidean algorithm.\n",
    "    Returns (g, x, y) such that a*x + b*y = g = gcd(a, b).\n",
    "    \"\"\"\n",
    "    if b == 0:\n",
    "        return a, 1, 0\n",
    "    g, x1, y1 = extended_gcd(b, a % b)\n",
    "    return g, y1, x1 - (a // b) * y1\n",
    "\n",
    "\n",
    "def mod_inverse(a, mod):\n",
    "    \"\"\"\n",
    "    Compute the modular inverse of a modulo mod.\n",
    "    Returns x such that (a * x) ≡ 1 (mod mod).\n",
    "    Raises an error if the modular inverse does not exist.\n",
    "    \"\"\"\n",
    "    g, x, _ = extended_gcd(a, mod)\n",
    "    if g != 1:\n",
    "        raise ValueError(\"Modular inverse does not exist\")\n",
    "    return x % mod"
   ]
  },
  {
   "cell_type": "code",
   "execution_count": 6,
   "metadata": {},
   "outputs": [],
   "source": [
    "def prime_factors(n):\n",
    "    \"\"\"\n",
    "    Compute the prime factorization of n.\n",
    "    Returns a list of tuples (prime, exponent).\n",
    "    Example: 12 to [(2,2), (3,1)] because 12 = 2² × 3¹.\n",
    "    \"\"\"\n",
    "    factors = []\n",
    "    i = 2\n",
    "    while i * i <= n:\n",
    "        if n % i == 0:\n",
    "            count = 0\n",
    "            while n % i == 0:\n",
    "                n //= i\n",
    "                count += 1\n",
    "            factors.append((i, count))\n",
    "        i += 1\n",
    "    if n > 1:\n",
    "        factors.append((n, 1))\n",
    "    return factors"
   ]
  },
  {
   "cell_type": "code",
   "execution_count": 7,
   "metadata": {},
   "outputs": [],
   "source": [
    "def chinese_remainder(remainders, mod):\n",
    "    \"\"\"\n",
    "    Solve a system of congruences using the Chinese Remainder Theorem.\n",
    "    Given x ≡ r_i (mod m_i), find x such that x ≡ r_i (mod m_i) for all i.\n",
    "    \"\"\"\n",
    "    n = 1  # Compute the product of all moduli\n",
    "    for m in mod:\n",
    "        n *= m\n",
    "    x = 0  # Solution accumulator\n",
    "    for r, m in zip(remainders, mod):\n",
    "        mi = n // m  # Compute partial modulus\n",
    "        inv = mod_inverse(mi, m)  # Compute modular inverse of mi mod m\n",
    "        x += r * mi * inv  # Combine the results\n",
    "    return x % n  # Ensure result is within range"
   ]
  },
  {
   "cell_type": "markdown",
   "metadata": {},
   "source": [
    "The two functions, `prime_factors` and `chinese_remainder`, let us use the Pohlig-Hellman algorithm. This algorithm figures out discrete logarithms in smaller groups to find $b$."
   ]
  },
  {
   "cell_type": "code",
   "execution_count": 8,
   "metadata": {},
   "outputs": [],
   "source": [
    "def pohlig_hellman(g, h, p, q):\n",
    "    \"\"\"\n",
    "    Solve the discrete logarithm problem h = g^x (mod p) using the Pohlig-Hellman algorithm.\n",
    "    It works efficiently when q (the order of g) has small prime factors.\n",
    "    \"\"\"\n",
    "    factors = prime_factors(q)  # Factorize q to break the problem into smaller subproblems\n",
    "    dlogs = []\n",
    "    mods = []  \n",
    "    for factor, exp in factors:\n",
    "        gi = pow(g, q // factor, p)  # Compute g^(q/factor) mod p\n",
    "        hi = pow(h, q // factor, p)  # Compute h^(q/factor) mod p\n",
    "        c = 1\n",
    "        while c < p:  # Search for the exponent x such that gi^c ≡ hi (mod p)\n",
    "            if pow(gi, c, p) == hi:\n",
    "                dlogs.append(c)\n",
    "                mods.append(factor)\n",
    "                break\n",
    "            c += 1\n",
    "    return chinese_remainder(dlogs, mods)  # Solve using CRT"
   ]
  },
  {
   "cell_type": "code",
   "execution_count": 9,
   "metadata": {},
   "outputs": [],
   "source": [
    "def decrypt_ciphertext(y, A, b, p):\n",
    "    \"\"\"\n",
    "    Decrypt an ElGamal ciphertext pair (y, A) using Bob's private key b.\n",
    "    \"\"\"\n",
    "    s = pow(y, b, p)  # Compute shared secret s = y^b mod p\n",
    "    s_inv = mod_inverse(s, p)  # Compute modular inverse of s\n",
    "    return (A * s_inv) % p  # Compute plaintext as (A * s⁻¹) mod p"
   ]
  },
  {
   "cell_type": "code",
   "execution_count": 10,
   "metadata": {},
   "outputs": [
    {
     "name": "stdout",
     "output_type": "stream",
     "text": [
      "Bob's private key: 5191\n"
     ]
    }
   ],
   "source": [
    "# Compute Bob's private key using the Pohlig-Hellman algorithm\n",
    "b = pohlig_hellman(g, gB, p, p-1)\n",
    "print(f\"Bob's private key: {b}\")"
   ]
  },
  {
   "cell_type": "code",
   "execution_count": 11,
   "metadata": {},
   "outputs": [
    {
     "name": "stdout",
     "output_type": "stream",
     "text": [
      "Decrypted numerical message: [19244117112225192941, 16191522142944411631, 22224125164116222533, 15282944412628192319, 30193215411522152315, 24302941141124131541, 16252841182531282943]\n"
     ]
    }
   ],
   "source": [
    "# Decrypt the numerical message\n",
    "decrypt_num_msg = [decrypt_ciphertext(y, A, b, p) for (y, A) in ciphertext]\n",
    "print(f\"Decrypted numerical message: {decrypt_num_msg}\")"
   ]
  },
  {
   "cell_type": "code",
   "execution_count": 12,
   "metadata": {},
   "outputs": [],
   "source": [
    "# Mapping from number to character\n",
    "def decod_num_msg(x):\n",
    "    \"\"\"\n",
    "    Convert a decrypted number into its corresponding character(s).\n",
    "    Each number is split into two-digit pairs and mapped to characters.\n",
    "    \"\"\"\n",
    "    let = {i: chr(64 + i - 10) for i in range(11, 37)}  # Maps 11-36 to A-Z\n",
    "    spe = {41: ' ', 42: \"'\", 43: '.', 44: ',', 45: '?'}  # Special characters mapping\n",
    "    mapping = {**let, **spe}  # Merge to dict\n",
    "    \n",
    "    # Convert number to string\n",
    "    return ''.join(mapping.get(int(str(x)[i:i+2]), '?') for i in range(0, len(str(x)), 2))"
   ]
  },
  {
   "cell_type": "code",
   "execution_count": 13,
   "metadata": {},
   "outputs": [
    {
     "name": "stdout",
     "output_type": "stream",
     "text": [
      "Decoded text: IN GALOIS FIELDS, FULL OF FLOWERS, PRIMITIVE ELEMENTS DANCE FOR HOURS.\n"
     ]
    }
   ],
   "source": [
    "# Decode the numerical message into text\n",
    "decoded_text = ''.join(decod_num_msg(num) for num in decrypt_num_msg)\n",
    "print(f\"Decoded text: {decoded_text}\")"
   ]
  },
  {
   "cell_type": "markdown",
   "metadata": {},
   "source": []
  },
  {
   "cell_type": "markdown",
   "metadata": {},
   "source": [
    "## $\\textbf{Exercise 3}$"
   ]
  },
  {
   "cell_type": "markdown",
   "metadata": {},
   "source": [
    "For this task, we are going to implement the ElGamal cryptosystem by creating a public and private key pair. Here are the steps that we will need to follow:\n",
    "\n",
    "1. **Generate a Prime Number $p$:**\n",
    "   - The prime number $p$ must satisfy the condition:\n",
    "     $$\n",
    "     p = 2p_1p_2 + 1\n",
    "     $$\n",
    "     where $p_1$ and $p_2$ are also prime numbers, and:\n",
    "     $$\n",
    "     p_1 < p_2 < p^3.\n",
    "     $$\n",
    "   - Additionally, the number of digits in $p$ must be at least 700.\n",
    "\n",
    "2. **Set Up the ElGamal Cryptosystem:**\n",
    "   - Use the generated prime $p$ to create a public and private keys:\n",
    "     - Choose a generator $g$ of the cyclic group $(\\mathbb{Z}/p\\mathbb{Z})^\\times$.\n",
    "     - Select a private key $b$, where $b$ is a random integer such that $1 \\leq b < p-1$.\n",
    "     - Compute the public key component $B = g^b \\mod p$.\n",
    "     - The public key will be $(p, g, B)$, and the private key will be $b$.\n",
    "\n",
    "3. **Encrypt a Message:**\n",
    "   - To encrypt a message:\n",
    "     - The sender  chooses a random ephemeral key $a$, where $1 \\leq a < p-1$.\n",
    "     - Compute two values:\n",
    "       - $A = g^a \\mod p$\n",
    "       - $y = m \\cdot B^a \\mod p$, where $m$ is the plaintext message.\n",
    "     - The ciphertext is the pair $(y, A)$.\n",
    "\n",
    "4. **Decrypt the Message:**\n",
    "   - To decrypt the ciphertext pair $(y, A)$:\n",
    "     - Compute the shared secret: $k = A^b \\mod p$.\n",
    "     - Find the modular inverse of $k$, denoted as $k^{-1} \\mod p$.\n",
    "     - Recover the plaintext message: \n",
    "       $$\n",
    "       m = (y \\cdot k^{-1}) \\mod p.\n",
    "       $$\n"
   ]
  },
  {
   "cell_type": "code",
   "execution_count": null,
   "metadata": {},
   "outputs": [],
   "source": [
    "import random\n",
    "import sympy\n",
    "import gmpy2\n",
    "import math\n",
    "from math import gcd\n",
    "\n",
    "def strong_pseudoprimality_test(N, t=10):\n",
    "    \"\"\"\n",
    "    Strong pseudoprimality test for an odd integer N >= 3.\n",
    "    Repeats the test t times independently.\n",
    "\n",
    "    Returns \"composite\" if N is composite, otherwise \"probably prime\".\n",
    "    \"\"\"\n",
    "    if N < 3 or N % 2 == 0:\n",
    "        return \"composite\"\n",
    "    \n",
    "    # Write N-1 as 2^e * m, with m odd\n",
    "    e = 0\n",
    "    m = N - 1\n",
    "    while m % 2 == 0:\n",
    "        m //= 2\n",
    "        e += 1\n",
    "    \n",
    "    for _ in range(t):\n",
    "        # Choose random x in {2, ..., N-2}\n",
    "        x = random.randint(2, N - 2)\n",
    "        \n",
    "        if gcd(x, N) != 1:\n",
    "            return \"composite\"\n",
    "        \n",
    "        # Compute y = x^m mod N\n",
    "        y = pow(x, m, N)\n",
    "        \n",
    "        if y == 1 or y == N - 1:\n",
    "            continue\n",
    "        \n",
    "        # Iterate to check for -1 condition\n",
    "        for _ in range(e - 1):\n",
    "            y = pow(y, 2, N)\n",
    "            if y == N - 1:\n",
    "                break\n",
    "        else:\n",
    "            return \"composite\"\n",
    "    \n",
    "    return \"probably prime\""
   ]
  },
  {
   "cell_type": "markdown",
   "metadata": {},
   "source": [
    "This function below goes to generate a large safe prime \\( p \\) satisfying the form:\n",
    "\n",
    "$$\n",
    "p = 2 \\cdot p_1 \\cdot p_2 + 1\n",
    "$$\n",
    "\n",
    "where `p1` and `p2` are prime numbers with `p1 < p2 < p1^3`.\n",
    "\n",
    "### It works by::\n",
    "\n",
    "1. **Bit-Length Initialization:**  \n",
    "   The function computes bounds using logarithms for the prime search.\n",
    "\n",
    "2. **Finding `p1`:**  \n",
    "   A random `p1` is selected and tested for primality.\n",
    "\n",
    "3. **Finding `p2`:**  \n",
    "   A random `p2` is selected within the range `[p1+1, p1^3]` and tested for primality.\n",
    "\n",
    "4. **Computing `p`:**  \n",
    "   `p` is calculated as `2 * p1 * p2 + 1` and tested for primality.\n",
    "\n",
    "5. **Returning the Prime:**  \n",
    "   If all conditions are met, `p` is returned as a large safe prime.\n"
   ]
  },
  {
   "cell_type": "code",
   "execution_count": 23,
   "metadata": {},
   "outputs": [
    {
     "name": "stdout",
     "output_type": "stream",
     "text": [
      "\u001b[1;31merror\u001b[0m: \u001b[1mexternally-managed-environment\u001b[0m\n",
      "\n",
      "\u001b[31m×\u001b[0m This environment is externally managed\n",
      "\u001b[31m╰─>\u001b[0m To install Python packages system-wide, try apt install\n",
      "\u001b[31m   \u001b[0m python3-xyz, where xyz is the package you are trying to\n",
      "\u001b[31m   \u001b[0m install.\n",
      "\u001b[31m   \u001b[0m \n",
      "\u001b[31m   \u001b[0m If you wish to install a non-Debian-packaged Python package,\n",
      "\u001b[31m   \u001b[0m create a virtual environment using python3 -m venv path/to/venv.\n",
      "\u001b[31m   \u001b[0m Then use path/to/venv/bin/python and path/to/venv/bin/pip. Make\n",
      "\u001b[31m   \u001b[0m sure you have python3-full installed.\n",
      "\u001b[31m   \u001b[0m \n",
      "\u001b[31m   \u001b[0m If you wish to install a non-Debian packaged Python application,\n",
      "\u001b[31m   \u001b[0m it may be easiest to use pipx install xyz, which will manage a\n",
      "\u001b[31m   \u001b[0m virtual environment for you. Make sure you have pipx installed.\n",
      "\u001b[31m   \u001b[0m \n",
      "\u001b[31m   \u001b[0m See /usr/share/doc/python3.12/README.venv for more information.\n",
      "\n",
      "\u001b[1;35mnote\u001b[0m: If you believe this is a mistake, please contact your Python installation or OS distribution provider. You can override this, at the risk of breaking your Python installation or OS, by passing --break-system-packages.\n",
      "\u001b[1;36mhint\u001b[0m: See PEP 668 for the detailed specification.\n",
      "Note: you may need to restart the kernel to use updated packages.\n"
     ]
    }
   ],
   "source": [
    "pip install gmpy2"
   ]
  },
  {
   "cell_type": "code",
   "execution_count": 15,
   "metadata": {},
   "outputs": [],
   "source": [
    "def generate_large_safe_prime(bit_length):\n",
    "    \"\"\"\n",
    "    Generates a large safe prime p of the form 2*p1*p2 + 1 where p1 and p2 are primes and\n",
    "    p1 < p2 < p1^3.\n",
    "    \"\"\"\n",
    "    x = 2 ** bit_length\n",
    "    ln2x = sympy.log(x, 2)\n",
    "    \n",
    "    # Bounds y0 and y1\n",
    "    y0 = (x - ln2x) / (2 * ln2x)\n",
    "    y1 = 2**(bit_length-1) - 1\n",
    "    \n",
    "    while True:\n",
    "        # Search for p1 in [y0^(1/3), y1^(1/3)]\n",
    "        p1_min = int(y0**(1/3))\n",
    "        p1_max = int(y1**(1/3))\n",
    "                \n",
    "        if p1_max > p1_min:\n",
    "            # Randomly select p1 from the range [p1_min, p1_max]\n",
    "            p1 = random.randint(p1_min, p1_max)\n",
    "            \n",
    "            # Check if p1 is probably prime\n",
    "            if strong_pseudoprimality_test(p1) == \"probably prime\":\n",
    "                # Search for p2 in the range [p1+1, p1^3]\n",
    "                p2_min = p1 + 1\n",
    "                p2_max = int(p1**3)\n",
    "                \n",
    "                # Make sure the range for p2 is valid\n",
    "                if p2_max > p2_min:\n",
    "                    # Randomly select p2 from the range [p2_min, p2_max]\n",
    "                    p2 = random.randint(p2_min, p2_max)\n",
    "                    \n",
    "                    # Check if p2 is probably prime\n",
    "                    if strong_pseudoprimality_test(p2) == \"probably prime\":\n",
    "                        # Calculate the prime number p as 2*p1*p2 + 1\n",
    "                        p = 2 * p1 * p2 + 1\n",
    "                        \n",
    "                        # Check if p is probably prime\n",
    "                        if strong_pseudoprimality_test(p) == \"probably prime\":\n",
    "                            # Return the prime number p if all conditions are met\n",
    "                            return p"
   ]
  },
  {
   "cell_type": "code",
   "execution_count": 16,
   "metadata": {},
   "outputs": [],
   "source": [
    "def generate_keys(p):\n",
    "    \"\"\"\n",
    "    Generates public and private keys for the ElGamal cryptosystem.\n",
    "    \"\"\"\n",
    "    g = random.randint(2, p-2)  # Random generator\n",
    "    x = random.randint(2, p-2)  # Private key\n",
    "    h = pow(g, x, p)           # Public key\n",
    "    return (g, h, x)"
   ]
  },
  {
   "cell_type": "code",
   "execution_count": 17,
   "metadata": {},
   "outputs": [],
   "source": [
    "def encrypt(message, g, h, p):\n",
    "    \"\"\"\n",
    "    Encrypts a message with the public key.\n",
    "    \"\"\"\n",
    "    k = random.randint(2, p-2)  # Random ephemeral key\n",
    "    c1 = pow(g, k, p)\n",
    "    c2 = (message * pow(h, k, p)) % p\n",
    "    return (c1, c2)\n",
    "\n",
    "def decrypt(ciphertext, x, p):\n",
    "    \"\"\"\n",
    "    Decrypts a message with the private key.\n",
    "    \"\"\"\n",
    "    c1, c2 = ciphertext\n",
    "    s = pow(c1, x, p)           # Shared secret\n",
    "    s_inv = pow(s, -1, p)       # Modular inverse of s\n",
    "    message = (c2 * s_inv) % p\n",
    "    return message"
   ]
  },
  {
   "cell_type": "code",
   "execution_count": null,
   "metadata": {},
   "outputs": [
    {
     "name": "stdout",
     "output_type": "stream",
     "text": [
      "2326\n"
     ]
    }
   ],
   "source": [
    "# Estimating the Bit-Length of a 700-Digit Number\n",
    "digits = 70\n",
    "bit_length_estimate = math.ceil(digits * math.log2(10))\n",
    "print(bit_length_estimate)"
   ]
  },
  {
   "cell_type": "code",
   "execution_count": 20,
   "metadata": {},
   "outputs": [
    {
     "ename": "OverflowError",
     "evalue": "int too large to convert to float",
     "output_type": "error",
     "traceback": [
      "\u001b[0;31m---------------------------------------------------------------------------\u001b[0m",
      "\u001b[0;31mOverflowError\u001b[0m                             Traceback (most recent call last)",
      "Cell \u001b[0;32mIn[20], line 3\u001b[0m\n\u001b[1;32m      1\u001b[0m \u001b[38;5;66;03m# Generate a prime with at least 700 digits\u001b[39;00m\n\u001b[1;32m      2\u001b[0m bit_length \u001b[38;5;241m=\u001b[39m bit_length_estimate\n\u001b[0;32m----> 3\u001b[0m p \u001b[38;5;241m=\u001b[39m \u001b[43mgenerate_large_safe_prime\u001b[49m\u001b[43m(\u001b[49m\u001b[43mbit_length\u001b[49m\u001b[43m)\u001b[49m\n\u001b[1;32m      4\u001b[0m \u001b[38;5;28mprint\u001b[39m(\u001b[38;5;124mf\u001b[39m\u001b[38;5;124m\"\u001b[39m\u001b[38;5;124mGenerated prime p: \u001b[39m\u001b[38;5;132;01m{\u001b[39;00mp\u001b[38;5;132;01m}\u001b[39;00m\u001b[38;5;124m\"\u001b[39m)\n\u001b[1;32m      5\u001b[0m \u001b[38;5;28mprint\u001b[39m(\u001b[38;5;124mf\u001b[39m\u001b[38;5;124m\"\u001b[39m\u001b[38;5;124mSize of p in digits: \u001b[39m\u001b[38;5;132;01m{\u001b[39;00m\u001b[38;5;28mlen\u001b[39m(\u001b[38;5;28mstr\u001b[39m(p))\u001b[38;5;132;01m}\u001b[39;00m\u001b[38;5;124m\"\u001b[39m)\n",
      "Cell \u001b[0;32mIn[15], line 16\u001b[0m, in \u001b[0;36mgenerate_large_safe_prime\u001b[0;34m(bit_length)\u001b[0m\n\u001b[1;32m     13\u001b[0m \u001b[38;5;28;01mwhile\u001b[39;00m \u001b[38;5;28;01mTrue\u001b[39;00m:\n\u001b[1;32m     14\u001b[0m     \u001b[38;5;66;03m# Search for p1 in [y0^(1/3), y1^(1/3)]\u001b[39;00m\n\u001b[1;32m     15\u001b[0m     p1_min \u001b[38;5;241m=\u001b[39m \u001b[38;5;28mint\u001b[39m(y0\u001b[38;5;241m*\u001b[39m\u001b[38;5;241m*\u001b[39m(\u001b[38;5;241m1\u001b[39m\u001b[38;5;241m/\u001b[39m\u001b[38;5;241m3\u001b[39m))\n\u001b[0;32m---> 16\u001b[0m     p1_max \u001b[38;5;241m=\u001b[39m \u001b[38;5;28mint\u001b[39m(\u001b[43my1\u001b[49m\u001b[38;5;241;43m*\u001b[39;49m\u001b[38;5;241;43m*\u001b[39;49m\u001b[43m(\u001b[49m\u001b[38;5;241;43m1\u001b[39;49m\u001b[38;5;241;43m/\u001b[39;49m\u001b[38;5;241;43m3\u001b[39;49m\u001b[43m)\u001b[49m)\n\u001b[1;32m     18\u001b[0m     \u001b[38;5;28;01mif\u001b[39;00m p1_max \u001b[38;5;241m>\u001b[39m p1_min:\n\u001b[1;32m     19\u001b[0m         \u001b[38;5;66;03m# Randomly select p1 from the range [p1_min, p1_max]\u001b[39;00m\n\u001b[1;32m     20\u001b[0m         p1 \u001b[38;5;241m=\u001b[39m random\u001b[38;5;241m.\u001b[39mrandint(p1_min, p1_max)\n",
      "\u001b[0;31mOverflowError\u001b[0m: int too large to convert to float"
     ]
    }
   ],
   "source": [
    "# Generate a prime with at least 700 digits\n",
    "bit_length = bit_length_estimate\n",
    "p = generate_large_safe_prime(bit_length)\n",
    "print(f\"Generated prime p: {p}\")\n",
    "print(f\"Size of p in digits: {len(str(p))}\")"
   ]
  },
  {
   "cell_type": "code",
   "execution_count": null,
   "metadata": {},
   "outputs": [],
   "source": [
    "# Generate keys\n",
    "g, h, x = generate_keys(p)\n",
    "print(f\"Public key: (p={p}, g={g}, h={h})\")\n",
    "print(f\"Private key: x={x}\")"
   ]
  },
  {
   "cell_type": "code",
   "execution_count": null,
   "metadata": {},
   "outputs": [],
   "source": [
    "# Encrypt a message\n",
    "msg = 123456789  # Example message\n",
    "ciphertext = encrypt(msg, g, h, p)\n",
    "print(f\"Ciphertext: {ciphertext}\")\n",
    "\n",
    "# Decrypt the message\n",
    "decrypted_message = decrypt(ciphertext, x, p)\n",
    "print(f\"Decrypted message: {decrypted_message}\")"
   ]
  },
  {
   "cell_type": "code",
   "execution_count": null,
   "metadata": {},
   "outputs": [],
   "source": []
  },
  {
   "cell_type": "code",
   "execution_count": null,
   "metadata": {},
   "outputs": [],
   "source": []
  },
  {
   "cell_type": "code",
   "execution_count": null,
   "metadata": {},
   "outputs": [],
   "source": []
  },
  {
   "cell_type": "code",
   "execution_count": null,
   "metadata": {},
   "outputs": [],
   "source": []
  },
  {
   "cell_type": "code",
   "execution_count": null,
   "metadata": {},
   "outputs": [],
   "source": []
  }
 ],
 "metadata": {
  "kernelspec": {
   "display_name": "Python 3",
   "language": "python",
   "name": "python3"
  },
  "language_info": {
   "codemirror_mode": {
    "name": "ipython",
    "version": 3
   },
   "file_extension": ".py",
   "mimetype": "text/x-python",
   "name": "python",
   "nbconvert_exporter": "python",
   "pygments_lexer": "ipython3",
   "version": "3.12.3"
  }
 },
 "nbformat": 4,
 "nbformat_minor": 2
}
